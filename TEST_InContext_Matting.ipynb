{
 "cells": [
  {
   "cell_type": "code",
   "execution_count": 1,
   "metadata": {
    "id": "UB6Ah_FXhjdX"
   },
   "outputs": [],
   "source": [
    "# clone this Github repo"
   ]
  },
  {
   "cell_type": "code",
   "execution_count": 2,
   "metadata": {
    "colab": {
     "base_uri": "https://localhost:8080/"
    },
    "id": "19Of4GcAQzeL",
    "outputId": "772ae37d-ec6a-44ee-9f8d-49a72b61fbcf"
   },
   "outputs": [
    {
     "name": "stdout",
     "output_type": "stream",
     "text": [
      "Drive already mounted at /content/drive; to attempt to forcibly remount, call drive.mount(\"/content/drive\", force_remount=True).\n"
     ]
    }
   ],
   "source": [
    "from google.colab import drive\n",
    "drive.mount('/content/drive')"
   ]
  },
  {
   "cell_type": "code",
   "execution_count": 3,
   "metadata": {
    "colab": {
     "base_uri": "https://localhost:8080/"
    },
    "id": "fJjqjMZfhsw6",
    "outputId": "a2db8013-1667-4beb-bc45-402b755c66b5"
   },
   "outputs": [
    {
     "name": "stdout",
     "output_type": "stream",
     "text": [
      "fatal: destination path 'In-Context-Matting' already exists and is not an empty directory.\n"
     ]
    }
   ],
   "source": [
    "# Clone the GitHub repository\n",
    "# !git clone https://github.com/tiny-smart/in-context-matting.git\n",
    "!git clone https://github.com/MatteoMaske/In-Context-Matting.git"
   ]
  },
  {
   "cell_type": "code",
   "execution_count": 1,
   "metadata": {
    "id": "tBvcI4UNTCpq"
   },
   "outputs": [],
   "source": [
    "%cp -r drive/MyDrive/ACV/ICM57 In-Context-Matting/datasets/\n",
    "%cp drive/MyDrive/ACV/IN-CONTEXT-MATTING/models/12-0.00800-mat.pth In-Context-Matting/\n",
    "%mv In-Context-Matting/12-0.00800-mat.pth In-Context-Matting/model.pth"
   ]
  },
  {
   "cell_type": "code",
   "execution_count": 2,
   "metadata": {
    "colab": {
     "base_uri": "https://localhost:8080/"
    },
    "id": "H_FlcuW7UWyO",
    "outputId": "36861b4b-f0be-4097-a76b-84f968a51701"
   },
   "outputs": [
    {
     "name": "stdout",
     "output_type": "stream",
     "text": [
      "/content/In-Context-Matting\n"
     ]
    }
   ],
   "source": [
    "%cd In-Context-Matting/"
   ]
  },
  {
   "cell_type": "code",
   "execution_count": 3,
   "metadata": {
    "colab": {
     "base_uri": "https://localhost:8080/"
    },
    "collapsed": true,
    "id": "cS5_WOoJoNBI",
    "outputId": "f67300a0-80a5-4a98-d0e8-4f40b65a3861"
   },
   "outputs": [
    {
     "name": "stdout",
     "output_type": "stream",
     "text": [
      "Requirement already satisfied: diffusers==0.18.1 in /usr/local/lib/python3.12/site-packages (from -r colab_requirements.txt (line 1)) (0.18.1)\n",
      "Requirement already satisfied: omegaconf==2.3.0 in /usr/local/lib/python3.12/site-packages (from -r colab_requirements.txt (line 2)) (2.3.0)\n",
      "Requirement already satisfied: pytorch-lightning==1.4.2 in /usr/local/lib/python3.12/site-packages (from -r colab_requirements.txt (line 3)) (1.4.2)\n",
      "Requirement already satisfied: jax==0.4.23 in /usr/local/lib/python3.12/site-packages (from -r colab_requirements.txt (line 4)) (0.4.23)\n",
      "Requirement already satisfied: jaxlib==0.4.23 in /usr/local/lib/python3.12/site-packages (from -r colab_requirements.txt (line 5)) (0.4.23)\n",
      "Requirement already satisfied: xformers in /usr/local/lib/python3.12/site-packages (from -r colab_requirements.txt (line 6)) (0.0.28.post3)\n",
      "Requirement already satisfied: torchmetrics==0.6.0 in /usr/local/lib/python3.12/site-packages (from -r colab_requirements.txt (line 7)) (0.6.0)\n",
      "Requirement already satisfied: huggingface_hub==0.14.1 in /usr/local/lib/python3.12/site-packages (from -r colab_requirements.txt (line 8)) (0.14.1)\n",
      "Requirement already satisfied: matplotlib==3.7.1 in /usr/local/lib/python3.12/site-packages (from -r colab_requirements.txt (line 9)) (3.7.1)\n",
      "Requirement already satisfied: opencv-python in /usr/local/lib/python3.12/site-packages (from -r colab_requirements.txt (line 10)) (4.10.0.84)\n",
      "Requirement already satisfied: torch in /usr/local/lib/python3.12/site-packages (from -r colab_requirements.txt (line 11)) (2.5.1)\n",
      "Requirement already satisfied: torchvision in /usr/local/lib/python3.12/site-packages (from -r colab_requirements.txt (line 12)) (0.20.1)\n",
      "Requirement already satisfied: scikit-image in /usr/local/lib/python3.12/site-packages (from -r colab_requirements.txt (line 13)) (0.24.0)\n",
      "Requirement already satisfied: importlib-metadata in /usr/local/lib/python3.12/site-packages (from diffusers==0.18.1->-r colab_requirements.txt (line 1)) (8.5.0)\n",
      "Requirement already satisfied: filelock in /usr/local/lib/python3.12/site-packages (from diffusers==0.18.1->-r colab_requirements.txt (line 1)) (3.16.1)\n",
      "Requirement already satisfied: numpy in /usr/local/lib/python3.12/site-packages (from diffusers==0.18.1->-r colab_requirements.txt (line 1)) (2.1.3)\n",
      "Requirement already satisfied: regex!=2019.12.17 in /usr/local/lib/python3.12/site-packages (from diffusers==0.18.1->-r colab_requirements.txt (line 1)) (2024.11.6)\n",
      "Requirement already satisfied: requests in /usr/local/lib/python3.12/site-packages (from diffusers==0.18.1->-r colab_requirements.txt (line 1)) (2.32.3)\n",
      "Requirement already satisfied: Pillow in /usr/local/lib/python3.12/site-packages (from diffusers==0.18.1->-r colab_requirements.txt (line 1)) (11.0.0)\n",
      "Requirement already satisfied: antlr4-python3-runtime==4.9.* in /usr/local/lib/python3.12/site-packages (from omegaconf==2.3.0->-r colab_requirements.txt (line 2)) (4.9.3)\n",
      "Requirement already satisfied: PyYAML>=5.1.0 in /usr/local/lib/python3.12/site-packages (from omegaconf==2.3.0->-r colab_requirements.txt (line 2)) (6.0.2)\n",
      "Requirement already satisfied: future>=0.17.1 in /usr/local/lib/python3.12/site-packages (from pytorch-lightning==1.4.2->-r colab_requirements.txt (line 3)) (1.0.0)\n",
      "Requirement already satisfied: tqdm>=4.41.0 in /usr/local/lib/python3.12/site-packages (from pytorch-lightning==1.4.2->-r colab_requirements.txt (line 3)) (4.66.5)\n",
      "Requirement already satisfied: fsspec!=2021.06.0,>=2021.05.0 in /usr/local/lib/python3.12/site-packages (from fsspec[http]!=2021.06.0,>=2021.05.0->pytorch-lightning==1.4.2->-r colab_requirements.txt (line 3)) (2024.10.0)\n",
      "Requirement already satisfied: tensorboard>=2.2.0 in /usr/local/lib/python3.12/site-packages (from pytorch-lightning==1.4.2->-r colab_requirements.txt (line 3)) (2.18.0)\n",
      "Requirement already satisfied: pyDeprecate==0.3.1 in /usr/local/lib/python3.12/site-packages (from pytorch-lightning==1.4.2->-r colab_requirements.txt (line 3)) (0.3.1)\n",
      "Requirement already satisfied: packaging>=17.0 in /usr/local/lib/python3.12/site-packages (from pytorch-lightning==1.4.2->-r colab_requirements.txt (line 3)) (24.1)\n",
      "Requirement already satisfied: typing-extensions in /usr/local/lib/python3.12/site-packages (from pytorch-lightning==1.4.2->-r colab_requirements.txt (line 3)) (4.12.2)\n",
      "Requirement already satisfied: ml-dtypes>=0.2.0 in /usr/local/lib/python3.12/site-packages (from jax==0.4.23->-r colab_requirements.txt (line 4)) (0.5.0)\n",
      "Requirement already satisfied: opt-einsum in /usr/local/lib/python3.12/site-packages (from jax==0.4.23->-r colab_requirements.txt (line 4)) (3.4.0)\n",
      "Requirement already satisfied: scipy>=1.9 in /usr/local/lib/python3.12/site-packages (from jax==0.4.23->-r colab_requirements.txt (line 4)) (1.14.1)\n",
      "Requirement already satisfied: contourpy>=1.0.1 in /usr/local/lib/python3.12/site-packages (from matplotlib==3.7.1->-r colab_requirements.txt (line 9)) (1.3.1)\n",
      "Requirement already satisfied: cycler>=0.10 in /usr/local/lib/python3.12/site-packages (from matplotlib==3.7.1->-r colab_requirements.txt (line 9)) (0.12.1)\n",
      "Requirement already satisfied: fonttools>=4.22.0 in /usr/local/lib/python3.12/site-packages (from matplotlib==3.7.1->-r colab_requirements.txt (line 9)) (4.54.1)\n",
      "Requirement already satisfied: kiwisolver>=1.0.1 in /usr/local/lib/python3.12/site-packages (from matplotlib==3.7.1->-r colab_requirements.txt (line 9)) (1.4.7)\n",
      "Requirement already satisfied: pyparsing>=2.3.1 in /usr/local/lib/python3.12/site-packages (from matplotlib==3.7.1->-r colab_requirements.txt (line 9)) (3.2.0)\n",
      "Requirement already satisfied: python-dateutil>=2.7 in /usr/local/lib/python3.12/site-packages (from matplotlib==3.7.1->-r colab_requirements.txt (line 9)) (2.9.0.post0)\n",
      "Requirement already satisfied: networkx in /usr/local/lib/python3.12/site-packages (from torch->-r colab_requirements.txt (line 11)) (3.4.2)\n",
      "Requirement already satisfied: jinja2 in /usr/local/lib/python3.12/site-packages (from torch->-r colab_requirements.txt (line 11)) (3.1.4)\n",
      "Requirement already satisfied: nvidia-cuda-nvrtc-cu12==12.4.127 in /usr/local/lib/python3.12/site-packages (from torch->-r colab_requirements.txt (line 11)) (12.4.127)\n",
      "Requirement already satisfied: nvidia-cuda-runtime-cu12==12.4.127 in /usr/local/lib/python3.12/site-packages (from torch->-r colab_requirements.txt (line 11)) (12.4.127)\n",
      "Requirement already satisfied: nvidia-cuda-cupti-cu12==12.4.127 in /usr/local/lib/python3.12/site-packages (from torch->-r colab_requirements.txt (line 11)) (12.4.127)\n",
      "Requirement already satisfied: nvidia-cudnn-cu12==9.1.0.70 in /usr/local/lib/python3.12/site-packages (from torch->-r colab_requirements.txt (line 11)) (9.1.0.70)\n",
      "Requirement already satisfied: nvidia-cublas-cu12==12.4.5.8 in /usr/local/lib/python3.12/site-packages (from torch->-r colab_requirements.txt (line 11)) (12.4.5.8)\n",
      "Requirement already satisfied: nvidia-cufft-cu12==11.2.1.3 in /usr/local/lib/python3.12/site-packages (from torch->-r colab_requirements.txt (line 11)) (11.2.1.3)\n",
      "Requirement already satisfied: nvidia-curand-cu12==10.3.5.147 in /usr/local/lib/python3.12/site-packages (from torch->-r colab_requirements.txt (line 11)) (10.3.5.147)\n",
      "Requirement already satisfied: nvidia-cusolver-cu12==11.6.1.9 in /usr/local/lib/python3.12/site-packages (from torch->-r colab_requirements.txt (line 11)) (11.6.1.9)\n",
      "Requirement already satisfied: nvidia-cusparse-cu12==12.3.1.170 in /usr/local/lib/python3.12/site-packages (from torch->-r colab_requirements.txt (line 11)) (12.3.1.170)\n",
      "Requirement already satisfied: nvidia-nccl-cu12==2.21.5 in /usr/local/lib/python3.12/site-packages (from torch->-r colab_requirements.txt (line 11)) (2.21.5)\n",
      "Requirement already satisfied: nvidia-nvtx-cu12==12.4.127 in /usr/local/lib/python3.12/site-packages (from torch->-r colab_requirements.txt (line 11)) (12.4.127)\n",
      "Requirement already satisfied: nvidia-nvjitlink-cu12==12.4.127 in /usr/local/lib/python3.12/site-packages (from torch->-r colab_requirements.txt (line 11)) (12.4.127)\n",
      "Requirement already satisfied: triton==3.1.0 in /usr/local/lib/python3.12/site-packages (from torch->-r colab_requirements.txt (line 11)) (3.1.0)\n",
      "Requirement already satisfied: setuptools in /usr/local/lib/python3.12/site-packages (from torch->-r colab_requirements.txt (line 11)) (75.1.0)\n",
      "Requirement already satisfied: sympy==1.13.1 in /usr/local/lib/python3.12/site-packages (from torch->-r colab_requirements.txt (line 11)) (1.13.1)\n",
      "Requirement already satisfied: mpmath<1.4,>=1.1.0 in /usr/local/lib/python3.12/site-packages (from sympy==1.13.1->torch->-r colab_requirements.txt (line 11)) (1.3.0)\n",
      "Requirement already satisfied: imageio>=2.33 in /usr/local/lib/python3.12/site-packages (from scikit-image->-r colab_requirements.txt (line 13)) (2.36.0)\n",
      "Requirement already satisfied: tifffile>=2022.8.12 in /usr/local/lib/python3.12/site-packages (from scikit-image->-r colab_requirements.txt (line 13)) (2024.9.20)\n",
      "Requirement already satisfied: lazy-loader>=0.4 in /usr/local/lib/python3.12/site-packages (from scikit-image->-r colab_requirements.txt (line 13)) (0.4)\n",
      "Requirement already satisfied: aiohttp!=4.0.0a0,!=4.0.0a1 in /usr/local/lib/python3.12/site-packages (from fsspec[http]!=2021.06.0,>=2021.05.0->pytorch-lightning==1.4.2->-r colab_requirements.txt (line 3)) (3.11.0)\n",
      "Requirement already satisfied: six>=1.5 in /usr/local/lib/python3.12/site-packages (from python-dateutil>=2.7->matplotlib==3.7.1->-r colab_requirements.txt (line 9)) (1.16.0)\n",
      "Requirement already satisfied: absl-py>=0.4 in /usr/local/lib/python3.12/site-packages (from tensorboard>=2.2.0->pytorch-lightning==1.4.2->-r colab_requirements.txt (line 3)) (2.1.0)\n",
      "Requirement already satisfied: grpcio>=1.48.2 in /usr/local/lib/python3.12/site-packages (from tensorboard>=2.2.0->pytorch-lightning==1.4.2->-r colab_requirements.txt (line 3)) (1.67.1)\n",
      "Requirement already satisfied: markdown>=2.6.8 in /usr/local/lib/python3.12/site-packages (from tensorboard>=2.2.0->pytorch-lightning==1.4.2->-r colab_requirements.txt (line 3)) (3.7)\n",
      "Requirement already satisfied: protobuf!=4.24.0,>=3.19.6 in /usr/local/lib/python3.12/site-packages (from tensorboard>=2.2.0->pytorch-lightning==1.4.2->-r colab_requirements.txt (line 3)) (5.28.3)\n",
      "Requirement already satisfied: tensorboard-data-server<0.8.0,>=0.7.0 in /usr/local/lib/python3.12/site-packages (from tensorboard>=2.2.0->pytorch-lightning==1.4.2->-r colab_requirements.txt (line 3)) (0.7.2)\n",
      "Requirement already satisfied: werkzeug>=1.0.1 in /usr/local/lib/python3.12/site-packages (from tensorboard>=2.2.0->pytorch-lightning==1.4.2->-r colab_requirements.txt (line 3)) (3.1.3)\n",
      "Requirement already satisfied: zipp>=3.20 in /usr/local/lib/python3.12/site-packages (from importlib-metadata->diffusers==0.18.1->-r colab_requirements.txt (line 1)) (3.21.0)\n",
      "Requirement already satisfied: MarkupSafe>=2.0 in /usr/local/lib/python3.12/site-packages (from jinja2->torch->-r colab_requirements.txt (line 11)) (3.0.2)\n",
      "Requirement already satisfied: charset-normalizer<4,>=2 in /usr/local/lib/python3.12/site-packages (from requests->diffusers==0.18.1->-r colab_requirements.txt (line 1)) (3.3.2)\n",
      "Requirement already satisfied: idna<4,>=2.5 in /usr/local/lib/python3.12/site-packages (from requests->diffusers==0.18.1->-r colab_requirements.txt (line 1)) (3.7)\n",
      "Requirement already satisfied: urllib3<3,>=1.21.1 in /usr/local/lib/python3.12/site-packages (from requests->diffusers==0.18.1->-r colab_requirements.txt (line 1)) (2.2.3)\n",
      "Requirement already satisfied: certifi>=2017.4.17 in /usr/local/lib/python3.12/site-packages (from requests->diffusers==0.18.1->-r colab_requirements.txt (line 1)) (2024.8.30)\n",
      "Requirement already satisfied: aiohappyeyeballs>=2.3.0 in /usr/local/lib/python3.12/site-packages (from aiohttp!=4.0.0a0,!=4.0.0a1->fsspec[http]!=2021.06.0,>=2021.05.0->pytorch-lightning==1.4.2->-r colab_requirements.txt (line 3)) (2.4.3)\n",
      "Requirement already satisfied: aiosignal>=1.1.2 in /usr/local/lib/python3.12/site-packages (from aiohttp!=4.0.0a0,!=4.0.0a1->fsspec[http]!=2021.06.0,>=2021.05.0->pytorch-lightning==1.4.2->-r colab_requirements.txt (line 3)) (1.3.1)\n",
      "Requirement already satisfied: attrs>=17.3.0 in /usr/local/lib/python3.12/site-packages (from aiohttp!=4.0.0a0,!=4.0.0a1->fsspec[http]!=2021.06.0,>=2021.05.0->pytorch-lightning==1.4.2->-r colab_requirements.txt (line 3)) (24.2.0)\n",
      "Requirement already satisfied: frozenlist>=1.1.1 in /usr/local/lib/python3.12/site-packages (from aiohttp!=4.0.0a0,!=4.0.0a1->fsspec[http]!=2021.06.0,>=2021.05.0->pytorch-lightning==1.4.2->-r colab_requirements.txt (line 3)) (1.5.0)\n",
      "Requirement already satisfied: multidict<7.0,>=4.5 in /usr/local/lib/python3.12/site-packages (from aiohttp!=4.0.0a0,!=4.0.0a1->fsspec[http]!=2021.06.0,>=2021.05.0->pytorch-lightning==1.4.2->-r colab_requirements.txt (line 3)) (6.1.0)\n",
      "Requirement already satisfied: propcache>=0.2.0 in /usr/local/lib/python3.12/site-packages (from aiohttp!=4.0.0a0,!=4.0.0a1->fsspec[http]!=2021.06.0,>=2021.05.0->pytorch-lightning==1.4.2->-r colab_requirements.txt (line 3)) (0.2.0)\n",
      "Requirement already satisfied: yarl<2.0,>=1.17.0 in /usr/local/lib/python3.12/site-packages (from aiohttp!=4.0.0a0,!=4.0.0a1->fsspec[http]!=2021.06.0,>=2021.05.0->pytorch-lightning==1.4.2->-r colab_requirements.txt (line 3)) (1.17.1)\n"
     ]
    }
   ],
   "source": [
    "!pip install -r colab_requirements.txt"
   ]
  },
  {
   "cell_type": "code",
   "execution_count": 26,
   "metadata": {
    "colab": {
     "base_uri": "https://localhost:8080/"
    },
    "id": "kxS_CuRjZtm4",
    "outputId": "5553e69a-fc26-41a4-8d6f-7027f4d69cd2"
   },
   "outputs": [
    {
     "name": "stdout",
     "output_type": "stream",
     "text": [
      "Collecting transformers\n",
      "  Downloading transformers-4.46.2-py3-none-any.whl.metadata (44 kB)\n",
      "Requirement already satisfied: filelock in /usr/local/lib/python3.12/site-packages (from transformers) (3.16.1)\n",
      "Collecting huggingface-hub<1.0,>=0.23.2 (from transformers)\n",
      "  Using cached huggingface_hub-0.26.2-py3-none-any.whl.metadata (13 kB)\n",
      "Requirement already satisfied: numpy>=1.17 in /usr/local/lib/python3.12/site-packages (from transformers) (1.26.0)\n",
      "Requirement already satisfied: packaging>=20.0 in /usr/local/lib/python3.12/site-packages (from transformers) (24.1)\n",
      "Requirement already satisfied: pyyaml>=5.1 in /usr/local/lib/python3.12/site-packages (from transformers) (6.0.2)\n",
      "Requirement already satisfied: regex!=2019.12.17 in /usr/local/lib/python3.12/site-packages (from transformers) (2024.11.6)\n",
      "Requirement already satisfied: requests in /usr/local/lib/python3.12/site-packages (from transformers) (2.32.3)\n",
      "Requirement already satisfied: safetensors>=0.4.1 in /usr/local/lib/python3.12/site-packages (from transformers) (0.4.5)\n",
      "Collecting tokenizers<0.21,>=0.20 (from transformers)\n",
      "  Downloading tokenizers-0.20.3-cp312-cp312-manylinux_2_17_x86_64.manylinux2014_x86_64.whl.metadata (6.7 kB)\n",
      "Requirement already satisfied: tqdm>=4.27 in /usr/local/lib/python3.12/site-packages (from transformers) (4.66.5)\n",
      "Requirement already satisfied: fsspec>=2023.5.0 in /usr/local/lib/python3.12/site-packages (from huggingface-hub<1.0,>=0.23.2->transformers) (2024.10.0)\n",
      "Requirement already satisfied: typing-extensions>=3.7.4.3 in /usr/local/lib/python3.12/site-packages (from huggingface-hub<1.0,>=0.23.2->transformers) (4.12.2)\n",
      "Requirement already satisfied: charset-normalizer<4,>=2 in /usr/local/lib/python3.12/site-packages (from requests->transformers) (3.3.2)\n",
      "Requirement already satisfied: idna<4,>=2.5 in /usr/local/lib/python3.12/site-packages (from requests->transformers) (3.7)\n",
      "Requirement already satisfied: urllib3<3,>=1.21.1 in /usr/local/lib/python3.12/site-packages (from requests->transformers) (2.2.3)\n",
      "Requirement already satisfied: certifi>=2017.4.17 in /usr/local/lib/python3.12/site-packages (from requests->transformers) (2024.8.30)\n",
      "Downloading transformers-4.46.2-py3-none-any.whl (10.0 MB)\n",
      "\u001b[2K   \u001b[90m━━━━━━━━━━━━━━━━━━━━━━━━━━━━━━━━━━━━━━━━\u001b[0m \u001b[32m10.0/10.0 MB\u001b[0m \u001b[31m29.9 MB/s\u001b[0m eta \u001b[36m0:00:00\u001b[0m\n",
      "\u001b[?25hUsing cached huggingface_hub-0.26.2-py3-none-any.whl (447 kB)\n",
      "Downloading tokenizers-0.20.3-cp312-cp312-manylinux_2_17_x86_64.manylinux2014_x86_64.whl (3.0 MB)\n",
      "\u001b[2K   \u001b[90m━━━━━━━━━━━━━━━━━━━━━━━━━━━━━━━━━━━━━━━━\u001b[0m \u001b[32m3.0/3.0 MB\u001b[0m \u001b[31m56.9 MB/s\u001b[0m eta \u001b[36m0:00:00\u001b[0m\n",
      "\u001b[?25hInstalling collected packages: huggingface-hub, tokenizers, transformers\n",
      "  Attempting uninstall: huggingface-hub\n",
      "    Found existing installation: huggingface-hub 0.14.1\n",
      "    Uninstalling huggingface-hub-0.14.1:\n",
      "      Successfully uninstalled huggingface-hub-0.14.1\n",
      "Successfully installed huggingface-hub-0.26.2 tokenizers-0.20.3 transformers-4.46.2\n"
     ]
    }
   ],
   "source": [
    "!pip install transformers"
   ]
  },
  {
   "cell_type": "code",
   "execution_count": 38,
   "metadata": {
    "colab": {
     "base_uri": "https://localhost:8080/"
    },
    "id": "aszruk-1eiVS",
    "outputId": "35773352-c9ae-4c26-89e8-1e56c25cfb8e"
   },
   "outputs": [
    {
     "name": "stdout",
     "output_type": "stream",
     "text": [
      "Collecting transformers==4.29.2\n",
      "  Using cached transformers-4.29.2-py3-none-any.whl.metadata (112 kB)\n",
      "Requirement already satisfied: filelock in /usr/local/lib/python3.12/site-packages (from transformers==4.29.2) (3.16.1)\n",
      "Requirement already satisfied: huggingface-hub<1.0,>=0.14.1 in /usr/local/lib/python3.12/site-packages (from transformers==4.29.2) (0.14.1)\n",
      "Requirement already satisfied: numpy>=1.17 in /usr/local/lib/python3.12/site-packages (from transformers==4.29.2) (1.26.0)\n",
      "Requirement already satisfied: packaging>=20.0 in /usr/local/lib/python3.12/site-packages (from transformers==4.29.2) (24.1)\n",
      "Requirement already satisfied: pyyaml>=5.1 in /usr/local/lib/python3.12/site-packages (from transformers==4.29.2) (6.0.2)\n",
      "Requirement already satisfied: regex!=2019.12.17 in /usr/local/lib/python3.12/site-packages (from transformers==4.29.2) (2024.11.6)\n",
      "Requirement already satisfied: requests in /usr/local/lib/python3.12/site-packages (from transformers==4.29.2) (2.32.3)\n",
      "Collecting tokenizers!=0.11.3,<0.14,>=0.11.1 (from transformers==4.29.2)\n",
      "  Using cached tokenizers-0.13.3.tar.gz (314 kB)\n",
      "  Installing build dependencies ... \u001b[?25l\u001b[?25hdone\n",
      "  Getting requirements to build wheel ... \u001b[?25l\u001b[?25hdone\n",
      "  Preparing metadata (pyproject.toml) ... \u001b[?25l\u001b[?25hdone\n",
      "Requirement already satisfied: tqdm>=4.27 in /usr/local/lib/python3.12/site-packages (from transformers==4.29.2) (4.66.5)\n",
      "Requirement already satisfied: fsspec in /usr/local/lib/python3.12/site-packages (from huggingface-hub<1.0,>=0.14.1->transformers==4.29.2) (2024.10.0)\n",
      "Requirement already satisfied: typing-extensions>=3.7.4.3 in /usr/local/lib/python3.12/site-packages (from huggingface-hub<1.0,>=0.14.1->transformers==4.29.2) (4.12.2)\n",
      "Requirement already satisfied: charset-normalizer<4,>=2 in /usr/local/lib/python3.12/site-packages (from requests->transformers==4.29.2) (3.3.2)\n",
      "Requirement already satisfied: idna<4,>=2.5 in /usr/local/lib/python3.12/site-packages (from requests->transformers==4.29.2) (3.7)\n",
      "Requirement already satisfied: urllib3<3,>=1.21.1 in /usr/local/lib/python3.12/site-packages (from requests->transformers==4.29.2) (2.2.3)\n",
      "Requirement already satisfied: certifi>=2017.4.17 in /usr/local/lib/python3.12/site-packages (from requests->transformers==4.29.2) (2024.8.30)\n",
      "Using cached transformers-4.29.2-py3-none-any.whl (7.1 MB)\n",
      "Building wheels for collected packages: tokenizers\n",
      "  \u001b[1;31merror\u001b[0m: \u001b[1msubprocess-exited-with-error\u001b[0m\n",
      "  \n",
      "  \u001b[31m×\u001b[0m \u001b[32mBuilding wheel for tokenizers \u001b[0m\u001b[1;32m(\u001b[0m\u001b[32mpyproject.toml\u001b[0m\u001b[1;32m)\u001b[0m did not run successfully.\n",
      "  \u001b[31m│\u001b[0m exit code: \u001b[1;36m1\u001b[0m\n",
      "  \u001b[31m╰─>\u001b[0m See above for output.\n",
      "  \n",
      "  \u001b[1;35mnote\u001b[0m: This error originates from a subprocess, and is likely not a problem with pip.\n",
      "  Building wheel for tokenizers (pyproject.toml) ... \u001b[?25l\u001b[?25herror\n",
      "\u001b[31m  ERROR: Failed building wheel for tokenizers\u001b[0m\u001b[31m\n",
      "\u001b[0mFailed to build tokenizers\n",
      "\u001b[31mERROR: ERROR: Failed to build installable wheels for some pyproject.toml based projects (tokenizers)\u001b[0m\u001b[31m\n",
      "\u001b[0m"
     ]
    }
   ],
   "source": [
    "!pip install transformers==4.29.2"
   ]
  },
  {
   "cell_type": "markdown",
   "metadata": {
    "id": "3b7UTwChS-AA"
   },
   "source": [
    "# Eval\n"
   ]
  },
  {
   "cell_type": "markdown",
   "metadata": {
    "id": "Od-ZW3nSb8uT"
   },
   "source": [
    "Change the following file:\n",
    "In-Context-Matting/config/eval.yaml\n",
    "line 32 load_local to False"
   ]
  },
  {
   "cell_type": "code",
   "execution_count": 34,
   "metadata": {
    "colab": {
     "base_uri": "https://localhost:8080/"
    },
    "id": "gTV75QWUmClS",
    "outputId": "56f1f584-57b2-4464-e744-19965bb7a69c"
   },
   "outputs": [
    {
     "name": "stdout",
     "output_type": "stream",
     "text": [
      "Traceback (most recent call last):\n",
      "  File \"/content/In-Context-Matting/eval.py\", line 6, in <module>\n",
      "    from pytorch_lightning import Trainer, seed_everything\n",
      "  File \"/usr/local/lib/python3.12/site-packages/pytorch_lightning/__init__.py\", line 20, in <module>\n",
      "    from pytorch_lightning import metrics  # noqa: E402\n",
      "    ^^^^^^^^^^^^^^^^^^^^^^^^^^^^^^^^^^^^^\n",
      "  File \"/usr/local/lib/python3.12/site-packages/pytorch_lightning/metrics/__init__.py\", line 15, in <module>\n",
      "    from pytorch_lightning.metrics.classification import (  # noqa: F401\n",
      "  File \"/usr/local/lib/python3.12/site-packages/pytorch_lightning/metrics/classification/__init__.py\", line 14, in <module>\n",
      "    from pytorch_lightning.metrics.classification.accuracy import Accuracy  # noqa: F401\n",
      "    ^^^^^^^^^^^^^^^^^^^^^^^^^^^^^^^^^^^^^^^^^^^^^^^^^^^^^^^^^^^^^^^^^^^^^^\n",
      "  File \"/usr/local/lib/python3.12/site-packages/pytorch_lightning/metrics/classification/accuracy.py\", line 16, in <module>\n",
      "    from torchmetrics import Accuracy as _Accuracy\n",
      "  File \"/usr/local/lib/python3.12/site-packages/torchmetrics/__init__.py\", line 14, in <module>\n",
      "    from torchmetrics import functional  # noqa: E402\n",
      "    ^^^^^^^^^^^^^^^^^^^^^^^^^^^^^^^^^^^\n",
      "  File \"/usr/local/lib/python3.12/site-packages/torchmetrics/functional/__init__.py\", line 68, in <module>\n",
      "    from torchmetrics.functional.text.bert import bert_score\n",
      "  File \"/usr/local/lib/python3.12/site-packages/torchmetrics/functional/text/bert.py\", line 28, in <module>\n",
      "    from transformers import AutoModel, AutoTokenizer\n",
      "  File \"/usr/local/lib/python3.12/site-packages/transformers/__init__.py\", line 26, in <module>\n",
      "    from . import dependency_versions_check\n",
      "  File \"/usr/local/lib/python3.12/site-packages/transformers/dependency_versions_check.py\", line 16, in <module>\n",
      "    from .utils.versions import require_version, require_version_core\n",
      "  File \"/usr/local/lib/python3.12/site-packages/transformers/utils/__init__.py\", line 71, in <module>\n",
      "    from .hub import (\n",
      "  File \"/usr/local/lib/python3.12/site-packages/transformers/utils/hub.py\", line 49, in <module>\n",
      "    from huggingface_hub.utils import (\n",
      "ImportError: cannot import name 'OfflineModeIsEnabled' from 'huggingface_hub.utils' (/usr/local/lib/python3.12/site-packages/huggingface_hub/utils/__init__.py)\n"
     ]
    }
   ],
   "source": [
    "!python eval.py --checkpoint model.pth --save_path results/ --config config/eval.yaml"
   ]
  },
  {
   "cell_type": "code",
   "execution_count": null,
   "metadata": {
    "colab": {
     "base_uri": "https://localhost:8080/"
    },
    "id": "Rq8ZEAd2S1jt",
    "outputId": "21e0c9f2-2f7a-4a83-83dc-3174213f4386"
   },
   "outputs": [
    {
     "name": "stdout",
     "output_type": "stream",
     "text": [
      "/content/in-context-matting\n"
     ]
    }
   ],
   "source": [
    "print(os.getcwd())"
   ]
  },
  {
   "cell_type": "code",
   "execution_count": null,
   "metadata": {
    "colab": {
     "base_uri": "https://localhost:8080/"
    },
    "id": "0TjvAudUSta7",
    "outputId": "45d4dd42-5377-4b19-b02b-829960dd93c3"
   },
   "outputs": [
    {
     "name": "stdout",
     "output_type": "stream",
     "text": [
      "False\n"
     ]
    }
   ],
   "source": [
    "import os\n",
    "print(os.path.exists('./datasets/ICM57/alpha/o_2a4715ae.png'))\n"
   ]
  }
 ],
 "metadata": {
  "accelerator": "GPU",
  "colab": {
   "gpuType": "T4",
   "provenance": []
  },
  "kernelspec": {
   "display_name": "Python (InContextMattingTest)",
   "name": "incontextmattingtest"
  }
 },
 "nbformat": 4,
 "nbformat_minor": 0
}
